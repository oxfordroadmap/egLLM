{
  "cells": [
    {
      "cell_type": "markdown",
      "metadata": {
        "id": "-2SBdVVysCN-"
      },
      "source": [
        "# Document Splitting\n",
        "\n",
        "Discover the best practices and considerations for splitting data.\n",
        "\n",
        "# Setup\n",
        "\n",
        "## Python"
      ]
    },
    {
      "cell_type": "code",
      "metadata": {
        "id": "koVBwPLFsCOA"
      },
      "source": [
        "from langchain.text_splitter import MarkdownHeaderTextSplitter\n",
        "from langchain.text_splitter import TokenTextSplitter\n",
        "from langchain.document_loaders import NotionDirectoryLoader\n",
        "from langchain.text_splitter import CharacterTextSplitter\n",
        "from langchain.document_loaders import PyPDFLoader\n",
        "from langchain.text_splitter import RecursiveCharacterTextSplitter, CharacterTextSplitter\n",
        "from dotenv import load_dotenv, find_dotenv\n",
        "import os\n",
        "import openai\n",
        "# import sys\n",
        "# sys.path.append('../..')\n",
        "\n",
        "_ = load_dotenv(find_dotenv())  # read local .env file\n",
        "\n",
        "openai.api_key = os.environ['OPENAI_API_KEY']"
      ],
      "execution_count": null,
      "outputs": []
    },
    {
      "cell_type": "markdown",
      "metadata": {
        "id": "Q7085e2TsCOB"
      },
      "source": [
        "# Splitting\n",
        "\n",
        "## Character Text Splitter"
      ]
    },
    {
      "cell_type": "code",
      "metadata": {
        "id": "CXIj42tosCOB"
      },
      "source": [
        "chunk_size = 26\n",
        "chunk_overlap = 4"
      ],
      "execution_count": null,
      "outputs": []
    },
    {
      "cell_type": "markdown",
      "metadata": {
        "id": "lTgggeBLsCOB"
      },
      "source": []
    },
    {
      "cell_type": "code",
      "metadata": {
        "id": "1VmtEutXsCOC"
      },
      "source": [
        "r_splitter = RecursiveCharacterTextSplitter(\n",
        "    chunk_size=chunk_size,\n",
        "    chunk_overlap=chunk_overlap\n",
        ")"
      ],
      "execution_count": null,
      "outputs": []
    },
    {
      "cell_type": "markdown",
      "metadata": {
        "id": "497XL5izsCOC"
      },
      "source": []
    },
    {
      "cell_type": "code",
      "metadata": {
        "id": "Gi9-XMJtsCOC"
      },
      "source": [
        "c_splitter = CharacterTextSplitter(\n",
        "    chunk_size=chunk_size,\n",
        "    chunk_overlap=chunk_overlap\n",
        ")"
      ],
      "execution_count": null,
      "outputs": []
    },
    {
      "cell_type": "markdown",
      "metadata": {
        "id": "pjS3fQ0RsCOD"
      },
      "source": [
        "## Text 1\n",
        "\n",
        "- Why doesn't this split the string below?"
      ]
    },
    {
      "cell_type": "code",
      "metadata": {
        "id": "8Au6OMaSsCOD"
      },
      "source": [
        "text1 = 'abcdefghijklmnopqrstuvwxyz'"
      ],
      "execution_count": null,
      "outputs": []
    },
    {
      "cell_type": "markdown",
      "metadata": {
        "id": "s5EBhuxXsCOD"
      },
      "source": []
    },
    {
      "cell_type": "code",
      "metadata": {
        "id": "5NeOgb4isCOD"
      },
      "source": [
        "r_splitter.split_text(text1)"
      ],
      "execution_count": null,
      "outputs": []
    },
    {
      "cell_type": "markdown",
      "metadata": {
        "id": "IGaVTIwpsCOE"
      },
      "source": [
        "- ['abcdefghijklmnopqrstuvwxyz']\n",
        "\n",
        "## Text 2"
      ]
    },
    {
      "cell_type": "code",
      "metadata": {
        "id": "90bj9E2rsCOE"
      },
      "source": [
        "text2 = 'abcdefghijklmnopqrstuvwxyzabcdefg'"
      ],
      "execution_count": null,
      "outputs": []
    },
    {
      "cell_type": "markdown",
      "metadata": {
        "id": "lNharw2YsCOE"
      },
      "source": []
    },
    {
      "cell_type": "code",
      "metadata": {
        "id": "35_ol1TysCOE"
      },
      "source": [
        "r_splitter.split_text(text2)"
      ],
      "execution_count": null,
      "outputs": []
    },
    {
      "cell_type": "markdown",
      "metadata": {
        "id": "Bw4utDPLsCOE"
      },
      "source": [
        "- ['abcdefghijklmnopqrstuvwxyz', 'wxyzabcdefg']\n",
        "\n",
        "\n",
        "## Text 3"
      ]
    },
    {
      "cell_type": "code",
      "metadata": {
        "id": "etPYi46lsCOE"
      },
      "source": [
        "text3 = \"a b c d e f g h i j k l m n o p q r s t u v w x y z\""
      ],
      "execution_count": null,
      "outputs": []
    },
    {
      "cell_type": "markdown",
      "metadata": {
        "id": "eMYvP2-EsCOE"
      },
      "source": []
    },
    {
      "cell_type": "code",
      "metadata": {
        "id": "z-5DAfvLsCOE"
      },
      "source": [
        "r_splitter.split_text(text3)"
      ],
      "execution_count": null,
      "outputs": []
    },
    {
      "cell_type": "markdown",
      "metadata": {
        "id": "3pBkuIPOsCOF"
      },
      "source": [
        "- ['a b c d e f g h i j k l m', 'l m n o p q r s t u v w x', 'w x y z']\n",
        "\n",
        "\n"
      ]
    },
    {
      "cell_type": "code",
      "metadata": {
        "id": "x0qbN4JHsCOF"
      },
      "source": [
        "c_splitter.split_text(text3)"
      ],
      "execution_count": null,
      "outputs": []
    },
    {
      "cell_type": "markdown",
      "metadata": {
        "id": "vqRBJhzdsCOF"
      },
      "source": [
        "- ['a b c d e f g h i j k l m n o p q r s t u v w x y z']\n",
        "\n",
        "## CharacterTextSplitter"
      ]
    },
    {
      "cell_type": "code",
      "metadata": {
        "id": "RKCxu13PsCOF"
      },
      "source": [
        "c_splitter = CharacterTextSplitter(\n",
        "    chunk_size=chunk_size,\n",
        "    chunk_overlap=chunk_overlap,\n",
        "    separator=' '\n",
        ")"
      ],
      "execution_count": null,
      "outputs": []
    },
    {
      "cell_type": "code",
      "metadata": {
        "id": "my08PLkKsCOF"
      },
      "source": [
        "c_splitter.split_text(text3)"
      ],
      "execution_count": null,
      "outputs": []
    },
    {
      "cell_type": "markdown",
      "metadata": {
        "id": "LMskQDXssCOF"
      },
      "source": [
        "- ['a b c d e f g h i j k l m', 'l m n o p q r s t u v w x', 'w x y z']\n",
        "\n",
        "# Recursive Splitting Details\n",
        "\n",
        "## RecursiveCharacterTextSplitter {.smaller}\n",
        "\n",
        "- `RecursiveCharacterTextSplitter` is recommended for generic text."
      ]
    },
    {
      "cell_type": "code",
      "metadata": {
        "id": "2yujAv51sCOF"
      },
      "source": [
        "some_text = \"\"\"When writing documents, writers will use document structure to group content. \\\n",
        "This can convey to the reader, which idea's are related. For example, closely related ideas \\\n",
        "are in sentances. Similar ideas are in paragraphs. Paragraphs form a document. \\n\\n  \\\n",
        "Paragraphs are often delimited with a carriage return or two carriage returns. \\\n",
        "Carriage returns are the \"backslash n\" you see embedded in this string. \\\n",
        "Sentences have a period at the end, but also, have a space.\\\n",
        "and words are separated by space.\"\"\""
      ],
      "execution_count": null,
      "outputs": []
    },
    {
      "cell_type": "markdown",
      "metadata": {
        "id": "kpHAcEMDsCOF"
      },
      "source": [
        "## Define splitter"
      ]
    },
    {
      "cell_type": "code",
      "metadata": {
        "id": "6x8_c8_esCOF"
      },
      "source": [
        "c_splitter = CharacterTextSplitter(\n",
        "    chunk_size=450,\n",
        "    chunk_overlap=0,\n",
        "    separator=' '\n",
        ")"
      ],
      "execution_count": null,
      "outputs": []
    },
    {
      "cell_type": "markdown",
      "metadata": {
        "id": "ic35auxxsCOG"
      },
      "source": []
    },
    {
      "cell_type": "code",
      "metadata": {
        "id": "RbfNgfZusCOG"
      },
      "source": [
        "r_splitter = RecursiveCharacterTextSplitter(\n",
        "    chunk_size=450,\n",
        "    chunk_overlap=0,\n",
        "    separators=[\"\\n\\n\", \"\\n\", \" \", \"\"]\n",
        ")"
      ],
      "execution_count": null,
      "outputs": []
    },
    {
      "cell_type": "markdown",
      "metadata": {
        "id": "_I-Q48UYsCOG"
      },
      "source": [
        "## Character Splitter output"
      ]
    },
    {
      "cell_type": "code",
      "metadata": {
        "id": "GiBFd9TYsCOG"
      },
      "source": [
        "c_splitter.split_text(some_text)"
      ],
      "execution_count": null,
      "outputs": []
    },
    {
      "cell_type": "markdown",
      "metadata": {
        "id": "J_rbs51osCOG"
      },
      "source": [
        "- ['When writing documents, writers will use document structure to group content. This can convey to the reader, which idea\\'s are related. For example, closely related ideas are in sentances. Similar ideas are in paragraphs. Paragraphs form a document. \\n\\n Paragraphs are often delimited with a carriage return or two carriage returns. Carriage returns are the \"backslash n\" you see embedded in this string. Sentences have a period at the end, but also,',\n",
        " 'have a space.and words are separated by space.']\n",
        "\n",
        "## Recursive Splitter output\n"
      ]
    },
    {
      "cell_type": "code",
      "metadata": {
        "id": "1IMS3jMjsCOG"
      },
      "source": [
        "r_splitter.split_text(some_text)"
      ],
      "execution_count": null,
      "outputs": []
    },
    {
      "cell_type": "markdown",
      "metadata": {
        "id": "cbLAO4UTsCOG"
      },
      "source": [
        "- [\"When writing documents, writers will use document structure to group content. This can convey to the reader, which idea's are related. For example, closely related ideas are in sentances. Similar ideas are in paragraphs. Paragraphs form a document.\",\n",
        " 'Paragraphs are often delimited with a carriage return or two carriage returns. Carriage returns are the \"backslash n\" you see embedded in this string. Sentences have a period at the end, but also, have a space.and words are separated by space.']\n",
        "\n",
        "## Adapt splitter 1 {.smaller}\n",
        "\n",
        "- Let's reduce the chunk size a bit and add a period to our separators:"
      ]
    },
    {
      "cell_type": "code",
      "metadata": {
        "id": "-ee9-ErlsCOG"
      },
      "source": [
        "r_splitter = RecursiveCharacterTextSplitter(\n",
        "    chunk_size=150,\n",
        "    chunk_overlap=0,\n",
        "    separators=[\"\\n\\n\", \"\\n\", \"\\. \", \" \", \"\"]\n",
        ")"
      ],
      "execution_count": null,
      "outputs": []
    },
    {
      "cell_type": "markdown",
      "metadata": {
        "id": "TuPpOpU5sCOG"
      },
      "source": []
    },
    {
      "cell_type": "code",
      "metadata": {
        "id": "DH_L5J-UsCOG"
      },
      "source": [
        "r_splitter.split_text(some_text)"
      ],
      "execution_count": null,
      "outputs": []
    },
    {
      "cell_type": "markdown",
      "metadata": {
        "id": "RNKL_hLGsCON"
      },
      "source": [
        "- [\"When writing documents, writers will use document structure to group content. This can convey to the reader, which idea's are related\",\n",
        " '. For example, closely related ideas are in sentances. Similar ideas are in paragraphs. Paragraphs form a document.',\n",
        " 'Paragraphs are often delimited with a carriage return or two carriage returns',\n",
        " '. Carriage returns are the \"backslash n\" you see embedded in this string',\n",
        " '. Sentences have a period at the end, but also, have a space.and words are separated by space.']\n",
        "\n",
        "## Adapt splitter 2 {.smaller}"
      ]
    },
    {
      "cell_type": "code",
      "metadata": {
        "id": "kjBOHK5zsCON"
      },
      "source": [
        "r_splitter = RecursiveCharacterTextSplitter(\n",
        "    chunk_size=150,\n",
        "    chunk_overlap=0,\n",
        "    separators=[\"\\n\\n\", \"\\n\", \"(?<=\\. )\", \" \", \"\"]\n",
        ")\n",
        "r_splitter.split_text(some_text)"
      ],
      "execution_count": null,
      "outputs": []
    },
    {
      "cell_type": "markdown",
      "metadata": {
        "id": "qHVK8cN1sCON"
      },
      "source": []
    },
    {
      "cell_type": "code",
      "metadata": {
        "id": "m7N95xMRsCON"
      },
      "source": [
        "r_splitter.split_text(some_text)"
      ],
      "execution_count": null,
      "outputs": []
    },
    {
      "cell_type": "markdown",
      "metadata": {
        "id": "9BD6HUuosCON"
      },
      "source": [
        "- [\"When writing documents, writers will use document structure to group content. This can convey to the reader, which idea's are related.\",\n",
        " 'For example, closely related ideas are in sentances. Similar ideas are in paragraphs. Paragraphs form a document.',\n",
        " 'Paragraphs are often delimited with a carriage return or two carriage returns.',\n",
        " 'Carriage returns are the \"backslash n\" you see embedded in this string.',\n",
        " 'Sentences have a period at the end, but also, have a space.and words are separated by space.']\n",
        "\n",
        "# Split a Document\n",
        "\n",
        "## Load PDF"
      ]
    },
    {
      "cell_type": "code",
      "metadata": {
        "id": "FGjQS7rrsCON"
      },
      "source": [
        "loader = PyPDFLoader(\"../docs/cs229_lectures/MachineLearning-Lecture01.pdf\")\n",
        "pages = loader.load()"
      ],
      "execution_count": null,
      "outputs": []
    },
    {
      "cell_type": "markdown",
      "metadata": {
        "id": "hUIjIB7msCON"
      },
      "source": [
        "## Define splitter"
      ]
    },
    {
      "cell_type": "code",
      "metadata": {
        "id": "fjiJ97bOsCON"
      },
      "source": [
        "text_splitter = CharacterTextSplitter(\n",
        "    separator=\"\\n\",\n",
        "    chunk_size=1000,\n",
        "    chunk_overlap=150,\n",
        "    length_function=len\n",
        ")"
      ],
      "execution_count": null,
      "outputs": []
    },
    {
      "cell_type": "markdown",
      "metadata": {
        "id": "IkzZCYresCOO"
      },
      "source": [
        "## Split document"
      ]
    },
    {
      "cell_type": "code",
      "metadata": {
        "id": "S9c5SfN_sCOO"
      },
      "source": [
        "docs = text_splitter.split_documents(pages)"
      ],
      "execution_count": null,
      "outputs": []
    },
    {
      "cell_type": "markdown",
      "metadata": {
        "id": "okiPj9aJsCOO"
      },
      "source": [
        "## Inspect data"
      ]
    },
    {
      "cell_type": "code",
      "metadata": {
        "id": "uYmnamhpsCOO"
      },
      "source": [
        "len(docs)"
      ],
      "execution_count": null,
      "outputs": []
    },
    {
      "cell_type": "markdown",
      "metadata": {
        "id": "WnL3pxqwsCOO"
      },
      "source": [
        "- 77\n",
        "\n"
      ]
    },
    {
      "cell_type": "code",
      "metadata": {
        "id": "HbaFtQwesCOO"
      },
      "source": [
        "len(pages)"
      ],
      "execution_count": null,
      "outputs": []
    },
    {
      "cell_type": "markdown",
      "metadata": {
        "id": "FBTWzFhUsCOO"
      },
      "source": [
        "- 22\n",
        "\n",
        "## Inspect data"
      ]
    },
    {
      "cell_type": "code",
      "metadata": {
        "id": "LR2C5qxZsCOO"
      },
      "source": [
        "print(docs[0].page_content[300:800])"
      ],
      "execution_count": null,
      "outputs": []
    },
    {
      "cell_type": "markdown",
      "metadata": {
        "id": "rNNUWwRosCOO"
      },
      "source": [
        "- my name's  Andrew Ng and I'll be instru ctor for this class. And so\n",
        "I personally work in machine learning, and I' ve worked on it for about 15 years now, and\n",
        "I actually think that machine learning is th e most exciting field of all the computer\n",
        "sciences. So I'm actually always excited about  teaching this class. Sometimes I actually\n",
        "think that machine learning is not only the most exciting thin g in computer science, but\n",
        "the most exciting thing in all of human e ndeavor, so maybe a little b\n",
        "\n",
        "# Split Notion data\n",
        "\n",
        "## Load data"
      ]
    },
    {
      "cell_type": "code",
      "metadata": {
        "id": "sL-rFfBisCOO"
      },
      "source": [
        "loader = NotionDirectoryLoader(\"../docs/Notion_DB\")\n",
        "notion_db = loader.load()"
      ],
      "execution_count": null,
      "outputs": []
    },
    {
      "cell_type": "markdown",
      "metadata": {
        "id": "vdLOrQ00sCOO"
      },
      "source": [
        "## Define splitter"
      ]
    },
    {
      "cell_type": "code",
      "metadata": {
        "id": "1X5qpzWusCOO"
      },
      "source": [
        "text_splitter = CharacterTextSplitter(\n",
        "    separator=\"\\n\",\n",
        "    chunk_size=1000,\n",
        "    chunk_overlap=150,\n",
        "    length_function=len\n",
        ")"
      ],
      "execution_count": null,
      "outputs": []
    },
    {
      "cell_type": "markdown",
      "metadata": {
        "id": "dhn7tQz9sCOP"
      },
      "source": [
        "## Split document"
      ]
    },
    {
      "cell_type": "code",
      "metadata": {
        "id": "rN6v8ZZnsCOP"
      },
      "source": [
        "docs = text_splitter.split_documents(notion_db)"
      ],
      "execution_count": null,
      "outputs": []
    },
    {
      "cell_type": "markdown",
      "metadata": {
        "id": "94nAbBvIsCOP"
      },
      "source": [
        "## Inspect data"
      ]
    },
    {
      "cell_type": "code",
      "metadata": {
        "id": "wapo4DGesCOP"
      },
      "source": [
        "len(notion_db)"
      ],
      "execution_count": null,
      "outputs": []
    },
    {
      "cell_type": "markdown",
      "metadata": {
        "id": "RpXXVpFhsCOP"
      },
      "source": [
        "- 1\n",
        "\n"
      ]
    },
    {
      "cell_type": "code",
      "metadata": {
        "id": "SmPzodsGsCOP"
      },
      "source": [
        "len(docs)"
      ],
      "execution_count": null,
      "outputs": []
    },
    {
      "cell_type": "markdown",
      "metadata": {
        "id": "XSGlMCfbsCOP"
      },
      "source": [
        "- 2\n",
        "\n",
        "\n",
        "## Inspect data {smaller}"
      ]
    },
    {
      "cell_type": "code",
      "metadata": {
        "id": "efg9RvoSsCOP"
      },
      "source": [
        "print(docs[0].page_content)"
      ],
      "execution_count": null,
      "outputs": []
    },
    {
      "cell_type": "markdown",
      "metadata": {
        "id": "RUEbts4rsCOP"
      },
      "source": [
        "```markdown\n",
        "# Getting Started\n",
        "👋 Welcome to Notion!\n",
        "Here are the basics:\n",
        "- [ ]  Click anywhere and just start typing\n",
        "- [ ]  Hit `/` to see all the types of content you can add - headers, videos, sub pages, etc.\n",
        "    \n",
        "    [Example sub page](https://www.notion.so/Example-sub-page-92f63253929d456bbf12cd696e21e045?pvs=21)\n",
        "    \n",
        "- [ ]  Highlight any text, and use the menu that pops up to **style** *your* ~~writing~~ `however` [you](https://www.notion.so/product) like\n",
        "- [ ]  See the `⋮⋮` to the left of this checkbox on hover? Click and drag to move this line\n",
        "- [ ]  Click the `+ New Page` button at the bottom of your sidebar to add a new page\n",
        "- [ ]  Click `Templates` in your sidebar to get started with pre-built pages\n",
        "- This is a toggle block. Click the little triangle to see more useful tips!\n",
        "    - [Template Gallery](https://www.notion.so/181e961aeb5c4ee6915307c0dfd5156d?pvs=21): More templates built by the Notion community\n",
        "\n",
        "```\n",
        "\n",
        "# Token splitting\n",
        "\n",
        "## Basics\n",
        "\n",
        "- We can also split on token count explicity, if we want\n",
        "\n",
        "- This can be useful because LLMs often have context windows designated in tokens\n",
        "\n",
        "- Tokens are often ~4 characters.\n",
        "\n",
        "\n",
        "## TokenTextSplitter 1"
      ]
    },
    {
      "cell_type": "code",
      "metadata": {
        "id": "9m-JzDOosCOQ"
      },
      "source": [
        "text_splitter = TokenTextSplitter(chunk_size=1, chunk_overlap=0)"
      ],
      "execution_count": null,
      "outputs": []
    },
    {
      "cell_type": "markdown",
      "metadata": {
        "id": "rS_8RTIzsCOQ"
      },
      "source": []
    },
    {
      "cell_type": "code",
      "metadata": {
        "id": "rlRQ1xepsCOQ"
      },
      "source": [
        "text1 = \"foo bar bazzyfoo\""
      ],
      "execution_count": null,
      "outputs": []
    },
    {
      "cell_type": "markdown",
      "metadata": {
        "id": "AH5EobpYsCOQ"
      },
      "source": []
    },
    {
      "cell_type": "code",
      "metadata": {
        "id": "2i_CbV6xsCOQ"
      },
      "source": [
        "text_splitter.split_text(text1)"
      ],
      "execution_count": null,
      "outputs": []
    },
    {
      "cell_type": "markdown",
      "metadata": {
        "id": "PaG8880YsCOQ"
      },
      "source": [
        "- ['foo', ' bar', ' b', 'az', 'zy', 'foo']\n",
        "\n",
        "## TokenTextSplitter 2 {.smaller}\n"
      ]
    },
    {
      "cell_type": "code",
      "metadata": {
        "id": "ubmYS47jsCOQ"
      },
      "source": [
        "text_splitter = TokenTextSplitter(chunk_size=10, chunk_overlap=0)"
      ],
      "execution_count": null,
      "outputs": []
    },
    {
      "cell_type": "markdown",
      "metadata": {
        "id": "7yyD5ax5sCOQ"
      },
      "source": [
        "\n"
      ]
    },
    {
      "cell_type": "code",
      "metadata": {
        "id": "HZP6VtJ7sCOQ"
      },
      "source": [
        "docs = text_splitter.split_documents(pages)"
      ],
      "execution_count": null,
      "outputs": []
    },
    {
      "cell_type": "markdown",
      "metadata": {
        "id": "NbW7109msCOQ"
      },
      "source": []
    },
    {
      "cell_type": "code",
      "metadata": {
        "id": "fF4qNBZcsCOQ"
      },
      "source": [
        "docs[0]"
      ],
      "execution_count": null,
      "outputs": []
    },
    {
      "cell_type": "markdown",
      "metadata": {
        "id": "N5UIVgqEsCOR"
      },
      "source": [
        "- Document(page_content='MachineLearning-Lecture01  \\n', metadata={'source': '../docs/cs229_lectures/MachineLearning-Lecture01.pdf', 'page': 0})\n",
        "\n"
      ]
    },
    {
      "cell_type": "code",
      "metadata": {
        "id": "SjkvZqZ-sCOR"
      },
      "source": [
        "pages[0].metadata"
      ],
      "execution_count": null,
      "outputs": []
    },
    {
      "cell_type": "markdown",
      "metadata": {
        "id": "aRADleDisCOR"
      },
      "source": [
        "- {'source': '../docs/cs229_lectures/MachineLearning-Lecture01.pdf', 'page': 0}\n",
        "\n",
        "# Context Aware Splitting with Markdown\n",
        "\n",
        "## Basics\n",
        "\n",
        "- Chunking aims to keep text with common context together.\n",
        "\n",
        "- A text splitting often uses sentences or other delimiters to keep related text together but many documents (such as Markdown) have structure (headers) that can be explicitly used in splitting.\n",
        "\n",
        "- We can use `MarkdownHeaderTextSplitter` to preserve header metadata in our chunks\n",
        "\n",
        "## Markdown example"
      ]
    },
    {
      "cell_type": "code",
      "metadata": {
        "id": "bncaCGNSsCOR"
      },
      "source": [
        "markdown_document = \"\"\"# Title\\n\\n \\\n",
        "## Chapter 1\\n\\n \\\n",
        "Hi this is Jim\\n\\n Hi this is Joe\\n\\n \\\n",
        "### Section \\n\\n \\\n",
        "Hi this is Lance \\n\\n\n",
        "## Chapter 2\\n\\n \\\n",
        "Hi this is Molly\"\"\""
      ],
      "execution_count": null,
      "outputs": []
    },
    {
      "cell_type": "markdown",
      "metadata": {
        "id": "MH1GZyuHsCOR"
      },
      "source": [
        "## Headers to split on"
      ]
    },
    {
      "cell_type": "code",
      "metadata": {
        "id": "bbJMTUGPsCOR"
      },
      "source": [
        "headers_to_split_on = [\n",
        "    (\"#\", \"Header 1\"),\n",
        "    (\"##\", \"Header 2\"),\n",
        "    (\"###\", \"Header 3\"),\n",
        "]"
      ],
      "execution_count": null,
      "outputs": []
    },
    {
      "cell_type": "markdown",
      "metadata": {
        "id": "OisyTYIRsCOR"
      },
      "source": [
        "## MarkdownHeaderTextSplitter"
      ]
    },
    {
      "cell_type": "code",
      "metadata": {
        "id": "6hViQ9A3sCOR"
      },
      "source": [
        "markdown_splitter = MarkdownHeaderTextSplitter(\n",
        "    headers_to_split_on=headers_to_split_on\n",
        ")"
      ],
      "execution_count": null,
      "outputs": []
    },
    {
      "cell_type": "markdown",
      "metadata": {
        "id": "9P-xsFVSsCOR"
      },
      "source": [
        "## Split text"
      ]
    },
    {
      "cell_type": "code",
      "metadata": {
        "id": "HJyyTqrSsCOR"
      },
      "source": [
        "md_header_splits = markdown_splitter.split_text(markdown_document)"
      ],
      "execution_count": null,
      "outputs": []
    },
    {
      "cell_type": "markdown",
      "metadata": {
        "id": "LUJm1DSlsCOR"
      },
      "source": [
        "\n"
      ]
    },
    {
      "cell_type": "code",
      "metadata": {
        "id": "0jCpjvDIsCOR"
      },
      "source": [
        "md_header_splits[0]"
      ],
      "execution_count": null,
      "outputs": []
    },
    {
      "cell_type": "markdown",
      "metadata": {
        "id": "4GIwnY-8sCOS"
      },
      "source": [
        "- Document(page_content='Hi this is Jim  \\nHi this is Joe', metadata={'Header 1': 'Title', 'Header 2': 'Chapter 1'})\n",
        "\n"
      ]
    },
    {
      "cell_type": "code",
      "metadata": {
        "id": "Glww8ETBsCOS"
      },
      "source": [
        "md_header_splits[1]"
      ],
      "execution_count": null,
      "outputs": []
    },
    {
      "cell_type": "markdown",
      "metadata": {
        "id": "EATsYtk4sCOS"
      },
      "source": [
        "- Document(page_content='Hi this is Lance', metadata={'Header 1': 'Title', 'Header 2': 'Chapter 1', 'Header 3': 'Section'})\n",
        "\n",
        "# Splitting Notion Markdown\n",
        "\n",
        "## Load data\n"
      ]
    },
    {
      "cell_type": "code",
      "metadata": {
        "id": "i14HZL3fsCOS"
      },
      "source": [
        "loader = NotionDirectoryLoader(\"../docs/Notion_DB\")\n",
        "docs = loader.load()"
      ],
      "execution_count": null,
      "outputs": []
    },
    {
      "cell_type": "markdown",
      "metadata": {
        "id": "gqL0B3oxsCOS"
      },
      "source": [
        "## Join data {.smaller}"
      ]
    },
    {
      "cell_type": "code",
      "metadata": {
        "id": "GoQ_BGbXsCOS"
      },
      "source": [
        "txt = ' '.join([d.page_content for d in docs])\n",
        "txt"
      ],
      "execution_count": null,
      "outputs": []
    },
    {
      "cell_type": "markdown",
      "metadata": {
        "id": "MrThgts9sCOS"
      },
      "source": [
        "- '# Getting Started\\n\\n👋 Welcome to Notion!\\n\\nHere are the basics:\\n\\n- [ ]  Click anywhere and just start typing\\n- [ ]  Hit `/` to see all the types of content you can add - headers, videos, sub pages, etc.\\n    \\n    [Example sub page](https://www.notion.so/Example-sub-page-92f63253929d456bbf12cd696e21e045?pvs=21)\\n    \\n- [ ]  Highlight any text, and use the menu that pops up to **style** *your* ~~writing~~ `however` [you](https://www.notion.so/product) like\\n- [ ]  See the `⋮⋮` to the left of this checkbox on hover? Click and drag to move this line\\n- [ ]  Click the `+ New Page` button at the bottom of your sidebar to add a new page\\n- [ ]  Click `Templates` in your sidebar to get started with pre-built pages\\n- This is a toggle block. Click the little triangle to see more useful tips!\\n    - [Template Gallery](https://www.notion.so/181e961aeb5c4ee6915307c0dfd5156d?pvs=21): More templates built by the Notion community\\n    - [Help & Support](https://www.notion.so/e040febf70a94950b8620e6f00005004?pvs=21): ****Guides and FAQs for everything in Notion\\n    - Stay organized with your sidebar and nested pages:\\n        \\n        ![Getting%20Started%2095e5ecbe48c44e408ef09fed850fbd40/infinitehierarchynodither.gif](https://github.com/kirenz/lab-langchain-rag/blob/main/code/Getting%20Started%2095e5ecbe48c44e408ef09fed850fbd40/infinitehierarchynodither.gif?raw=1)\\n        \\n    \\n\\nSee it in action:\\n\\n[1 minute](https://youtu.be/TL_N2pmh9O0)\\n\\n1 minute\\n\\n[4 minutes](https://youtu.be/FXIrojSK3Jo)\\n\\n4 minutes\\n\\n[2 minutes](https://youtu.be/2Pwzff-uffU)\\n\\n2 minutes\\n\\n[2 minutes](https://youtu.be/O8qdvSxDYNY)\\n\\n2 minutes\\n\\nVisit our [YouTube channel](http://youtube.com/c/notion) to watch 50+ more tutorials\\n\\n👉**Have a question?** Click the `?` at the bottom right for more guides, or to send us a message.'\n",
        "\n",
        "## Define Splitter"
      ]
    },
    {
      "cell_type": "code",
      "metadata": {
        "id": "Ri1wuEqgsCOS"
      },
      "source": [
        "headers_to_split_on = [\n",
        "    (\"#\", \"Header 1\"),\n",
        "    (\"##\", \"Header 2\"),\n",
        "]"
      ],
      "execution_count": null,
      "outputs": []
    },
    {
      "cell_type": "markdown",
      "metadata": {
        "id": "wLq-QWtBsCOS"
      },
      "source": []
    },
    {
      "cell_type": "code",
      "metadata": {
        "id": "QlhhNtQksCOS"
      },
      "source": [
        "markdown_splitter = MarkdownHeaderTextSplitter(\n",
        "    headers_to_split_on=headers_to_split_on\n",
        ")"
      ],
      "execution_count": null,
      "outputs": []
    },
    {
      "cell_type": "markdown",
      "metadata": {
        "id": "PtRQ9CC0sCOS"
      },
      "source": [
        "## Split text"
      ]
    },
    {
      "cell_type": "code",
      "metadata": {
        "id": "cKbwNs-1sCOS"
      },
      "source": [
        "md_header_splits = markdown_splitter.split_text(txt)"
      ],
      "execution_count": null,
      "outputs": []
    },
    {
      "cell_type": "markdown",
      "metadata": {
        "id": "FPxVhbn6sCOS"
      },
      "source": [
        "## Output {.smaller}"
      ]
    },
    {
      "cell_type": "code",
      "metadata": {
        "id": "MC7QTr86sCOT"
      },
      "source": [
        "md_header_splits[0]"
      ],
      "execution_count": null,
      "outputs": []
    }
  ],
  "metadata": {
    "kernelspec": {
      "name": "python3",
      "language": "python",
      "display_name": "Python 3 (ipykernel)"
    },
    "colab": {
      "provenance": []
    }
  },
  "nbformat": 4,
  "nbformat_minor": 0
}